{
  "nbformat": 4,
  "nbformat_minor": 0,
  "metadata": {
    "colab": {
      "provenance": []
    },
    "kernelspec": {
      "name": "python3",
      "display_name": "Python 3"
    },
    "language_info": {
      "name": "python"
    }
  },
  "cells": [
    {
      "cell_type": "code",
      "source": [
        "!pip install web3"
      ],
      "metadata": {
        "id": "U9rbqmd1WFqO"
      },
      "execution_count": null,
      "outputs": []
    },
    {
      "cell_type": "code",
      "source": [
        "from web3 import Web3\n",
        "\n",
        "# Connect to the Ethereum network\n",
        "w3 = Web3(Web3.HTTPProvider('https://eth-sepolia.g.alchemy.com/v2/YOUR_ALCHEMY_API_KEY'))\n",
        "\n",
        "if w3.is_connected():\n",
        "  print(\"Connected to Sepolia via Alchemy\")"
      ],
      "metadata": {
        "id": "2ujpfkRQWaVw"
      },
      "execution_count": null,
      "outputs": []
    },
    {
      "cell_type": "code",
      "source": [
        "import json\n",
        "\n",
        "CONTRACT_ADDRESS = \"YOUR_DEPLOYED_CONTRACT_ADDRESS\"\n",
        "\n",
        "# Convert JSON ABI to Python format\n",
        "ABI_JSON = \"\"\"[\n",
        "YOUR_ABI\n",
        "]\"\"\"\n",
        "\n",
        "ABI = json.loads(ABI_JSON)"
      ],
      "metadata": {
        "id": "RzZC9V-VWtMi"
      },
      "execution_count": null,
      "outputs": []
    },
    {
      "cell_type": "code",
      "source": [
        "# Load contract\n",
        "contract = w3.eth.contract(address=CONTRACT_ADDRESS, abi=ABI)"
      ],
      "metadata": {
        "id": "t86o5lNVXevy"
      },
      "execution_count": null,
      "outputs": []
    },
    {
      "cell_type": "code",
      "source": [
        "candidates = contract.functions.getAllCandidates().call()\n",
        "print(\"Candidates:\", candidates)"
      ],
      "metadata": {
        "id": "gEbibdkpYdQn"
      },
      "execution_count": null,
      "outputs": []
    },
    {
      "cell_type": "code",
      "source": [
        "winner = contract.functions.getWinner().call()\n",
        "print(\"Winner:\", winner)"
      ],
      "metadata": {
        "id": "4T9kGkVyYoNV"
      },
      "execution_count": null,
      "outputs": []
    },
    {
      "cell_type": "code",
      "source": [],
      "metadata": {
        "id": "f5rS4gsTY0Jg"
      },
      "execution_count": null,
      "outputs": []
    }
  ]
}